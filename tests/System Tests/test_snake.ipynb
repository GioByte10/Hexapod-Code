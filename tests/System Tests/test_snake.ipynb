{
 "cells": [
  {
   "attachments": {},
   "cell_type": "markdown",
   "metadata": {},
   "source": [
    "### Testing Whole Snake"
   ]
  },
  {
   "attachments": {},
   "cell_type": "markdown",
   "metadata": {},
   "source": [
    "# Initialize"
   ]
  },
  {
   "cell_type": "code",
   "execution_count": null,
   "metadata": {},
   "outputs": [],
   "source": [
    "from asyncore import loop\n",
    "from audioop import mul\n",
    "from cProfile import run\n",
    "from doctest import run_docstring_examples\n",
    "from os.path import dirname, realpath\n",
    "from pdb import post_mortem\n",
    "import sys\n",
    "from unittest import mock\n",
    "import csv\n",
    "\n",
    "from more_itertools import sample\n",
    "arcsnake_v2_path = dirname(dirname(realpath(__file__)))\n",
    "sys.path.append(arcsnake_v2_path)\n",
    "\n",
    "import os\n",
    "import can\n",
    "import math as m\n",
    "import numpy as np\n",
    "import time\n",
    "import matplotlib.pyplot as plt\n",
    "from datetime import datetime\n",
    "from pyinstrument import Profiler\n",
    "\n",
    "import core.CANHelper\n",
    "from core.CanUJoint import CanUJoint\n",
    "from core.CanMotor import CanMotor\n",
    "from core.CanScrewMotor import CanScrewMotor\n",
    "from core.timeout import TimeoutError\n",
    "import math\n",
    "\n",
    "core.CANHelper.init(\"can0\")\n",
    "can0 = can.ThreadSafeBus(channel='can0', bustype='socketcan')\n",
    "\n",
    "deviceId = 0x01\n",
    "sensor = CanArduinoSensors(can0, deviceId)\n",
    "\n",
    "gear_ratio = 11\n",
    "\n",
    "folder = \"tests/System Tests/PCBTesting\"\n",
    "test_name = \"assembled_screwblocks_014\"\n",
    "\n",
    "print(\"Trying to initialize motors\")\n",
    "joint1 = CanMotor(can0, 8, gear_ratio)\n",
    "# joint2 = CanMotor(can0, 6, gear_ratio)\n",
    "# joint3 = CanMotor(can0, 7, gear_ratio)\n",
    "# joint4 = CanMotor(can0, 8, gear_ratio)\n",
    "# joint5 = CanMotor(can0, 5, gear_ratio)\n",
    "# joint6 = CanMotor(can0, 10, gear_ratio)\n",
    "screw1 = CanMotor(can0, 0, 1)\n",
    "# screw2 = CanMotor(can0, 1, 1)\n",
    "# screw3 = CanMotor(can0, 0, 1)\n",
    "# screw4 = CanMotor(can0, 4, 1)\n",
    "# screw5 = CanMotor(can0, 6, 1)\n",
    "\n",
    "print('Motor initialization complete')"
   ]
  }
 ],
 "metadata": {
  "language_info": {
   "name": "python"
  },
  "orig_nbformat": 4
 },
 "nbformat": 4,
 "nbformat_minor": 2
}
