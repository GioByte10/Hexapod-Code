{
 "cells": [
  {
   "cell_type": "code",
   "execution_count": 1,
   "metadata": {},
   "outputs": [],
   "source": [
    "import rclpy\n",
    "from rclpy.node import Node\n",
    "from sensor_msgs.msg import JointState\n",
    "from std_msgs.msg import String\n",
    "import time"
   ]
  },
  {
   "cell_type": "code",
   "execution_count": 2,
   "metadata": {},
   "outputs": [],
   "source": [
    "joint_state = JointState()\n",
    "\n",
    "class ARCSnakeListener(Node):\n",
    "    '''\n",
    "        Gets joint angle information from the snake\n",
    "    '''\n",
    "    def __init__(self):\n",
    "        super().__init__('arcsnake_listener')\n",
    "        self.subscription = self.create_subscription(\n",
    "            JointState,\n",
    "            '/arcsnake/joints_current',\n",
    "            self.listener_callback,\n",
    "            10)\n",
    "        self.subscription  # prevent unused variable warning\n",
    "        self.joint_publisher = self.create_publisher(JointState, '/arcsnake/joints_desired', 10)\n",
    "        self.state_publisher = self.create_publisher(String, '/arcsnake/state', 10)\n",
    "\n",
    "    def listener_callback(self, msg):\n",
    "        global joint_state\n",
    "        joint_state = msg"
   ]
  },
  {
   "cell_type": "code",
   "execution_count": 3,
   "metadata": {},
   "outputs": [
    {
     "name": "stdout",
     "output_type": "stream",
     "text": [
      "sensor_msgs.msg.JointState(header=std_msgs.msg.Header(stamp=builtin_interfaces.msg.Time(sec=0, nanosec=0), frame_id=''), name=['seg0_screw', 'seg0_uJoint2', 'seg1_uJoint1', 'seg1_screw', 'seg1_uJoint2', 'seg2_uJoint1', 'seg2_screw', 'seg2_uJoint2', 'seg3_uJoint1', 'seg3_screw'], position=[0.0, 0.0, 0.0, 0.0, 0.0, 0.0, 0.0, 0.0, 0.0, 0.0], velocity=[0.0, 0.0, 0.0, 0.0, 0.0, 0.0, 0.0, 0.0, 0.0, 0.0], effort=[0.0, 0.0, 0.0, 0.0, 0.0, 0.0, 0.0, 0.0, 0.0, 0.0])\n"
     ]
    }
   ],
   "source": [
    "rclpy.init()\n",
    "\n",
    "arcsnake_listener = ARCSnakeListener()\n",
    "rclpy.spin_once(arcsnake_listener)\n",
    "\n",
    "print(joint_state)\n"
   ]
  },
  {
   "cell_type": "code",
   "execution_count": 4,
   "metadata": {},
   "outputs": [],
   "source": [
    "arcsnake_listener.state_publisher.publish(String(data=\"start\"))"
   ]
  },
  {
   "cell_type": "code",
   "execution_count": 7,
   "metadata": {},
   "outputs": [
    {
     "name": "stdout",
     "output_type": "stream",
     "text": [
      "['seg0_screw', 'seg0_uJoint2', 'seg1_uJoint1', 'seg1_screw', 'seg1_uJoint2', 'seg2_uJoint1', 'seg2_screw', 'seg2_uJoint2', 'seg3_uJoint1', 'seg3_screw']\n",
      "array('d', [-2.703340478414017, 0.02548180707911721, -0.054724005364804026, -1.2470377505499486, -0.034033920413889425, 0.034827251892068666, 2.5542893602937013, 0.20515552025715167, 0.0, 2.075371013546457])\n",
      "array('d', [0.0, 0.0, 0.0, 0.0, 0.0, 0.0, 0.0, 0.0, 0.0, 0.0])\n"
     ]
    }
   ],
   "source": [
    "rclpy.spin_once(arcsnake_listener)\n",
    "print(joint_state.name)\n",
    "print(joint_state.position)\n",
    "print(joint_state.velocity)"
   ]
  },
  {
   "cell_type": "code",
   "execution_count": 8,
   "metadata": {},
   "outputs": [],
   "source": [
    "# Set torques to 0\n",
    "joint_state.effort = [0.0]*len(joint_state.effort)\n",
    "arcsnake_listener.joint_publisher.publish(joint_state)"
   ]
  },
  {
   "cell_type": "code",
   "execution_count": 13,
   "metadata": {},
   "outputs": [],
   "source": [
    "arcsnake_listener.state_publisher.publish(String(data=\"stop\"))"
   ]
  },
  {
   "cell_type": "code",
   "execution_count": 13,
   "metadata": {},
   "outputs": [],
   "source": [
    "# Wheeling motion\n",
    "speed = 15\n",
    "\n",
    "joint_state.velocity[0] = -speed\n",
    "joint_state.velocity[3] = speed\n",
    "joint_state.velocity[6] = speed\n",
    "joint_state.velocity[9] = speed\n",
    "\n",
    "arcsnake_listener.joint_publisher.publish(joint_state)"
   ]
  },
  {
   "cell_type": "code",
   "execution_count": 13,
   "metadata": {},
   "outputs": [
    {
     "name": "stdout",
     "output_type": "stream",
     "text": [
      "-0.03086059450117246\n"
     ]
    }
   ],
   "source": [
    "rclpy.spin_once(arcsnake_listener)\n",
    "print(joint_state.position[-2])"
   ]
  },
  {
   "cell_type": "code",
   "execution_count": 20,
   "metadata": {},
   "outputs": [],
   "source": [
    "# From the current joint state, move -2 joint to pi/2 with linear interpolation and time.sleep(1 s)\n",
    "import numpy as np\n",
    "import time\n",
    "\n",
    "motor_idx = 2\n",
    "offset_goal =  0.7\n",
    "# offset_goal = np.pi/2\n",
    "\n",
    "pos_traj = np.linspace(joint_state.position[motor_idx], joint_state.position[motor_idx] + offset_goal, 500)\n",
    "for pos in pos_traj:\n",
    "    joint_state.position[motor_idx] = pos\n",
    "    # joint_state.velocity[-1] = 0\n",
    "    arcsnake_listener.joint_publisher.publish(joint_state)\n",
    "    time.sleep(0.01)"
   ]
  },
  {
   "cell_type": "code",
   "execution_count": 9,
   "metadata": {},
   "outputs": [
    {
     "name": "stdout",
     "output_type": "stream",
     "text": [
      "array('d', [-2.703340478414017, 0.02548180707911721, -0.054724005364804026, -1.248434013951544, -0.034033920413889425, 0.034827251892068666, 2.552893096892106, 0.20515552025715167, 0.0, 1.9949113350295187])\n"
     ]
    }
   ],
   "source": [
    "rclpy.spin_once(arcsnake_listener)\n",
    "print(joint_state.position)"
   ]
  },
  {
   "cell_type": "code",
   "execution_count": 14,
   "metadata": {},
   "outputs": [],
   "source": [
    "#Screwing motion\n",
    "\n",
    "# Keep all positions constant\n",
    "# Set all toqrues initially to 0\n",
    "joint_state.effort = [0.0]*len(joint_state.effort)\n",
    "\n",
    "torque_value = -2.5\n",
    "# positive torque for motor_idx 1\n",
    "joint_state.effort[1] = torque_value\n",
    "\n",
    "# positive torque for motor_idx -3\n",
    "joint_state.effort[-3] = -torque_value\n",
    "\n",
    "# Screwing motion\n",
    "speed = 15\n",
    "\n",
    "joint_state.velocity[0] = -speed\n",
    "joint_state.velocity[3] = speed\n",
    "joint_state.velocity[6] = speed\n",
    "joint_state.velocity[9] = speed\n",
    "\n",
    "# Publish the joint state\n",
    "arcsnake_listener.joint_publisher.publish(joint_state)"
   ]
  },
  {
   "cell_type": "code",
   "execution_count": 17,
   "metadata": {},
   "outputs": [
    {
     "name": "stdout",
     "output_type": "stream",
     "text": [
      "array('d', [0.21886428820008894, 0.02924219828568681, 0.0, 0.0, 0.0, 0.0, 0.0, 0.0, 0.0, 0.0])\n",
      "array('d', [0.0, 0.0, 0.0, 0.0, 0.0, 0.0, 0.0, 0.0, 0.0, 0.0])\n",
      "array('d', [0.0, -2.5, 0.0, 0.0, 0.0, 0.0, 0.0, 2.5, 0.0, 0.0])\n"
     ]
    }
   ],
   "source": [
    "print(joint_state.position)\n",
    "print(joint_state.velocity)\n",
    "print(joint_state.effort)"
   ]
  },
  {
   "cell_type": "code",
   "execution_count": 22,
   "metadata": {},
   "outputs": [],
   "source": [
    "rclpy.spin_once(arcsnake_listener)"
   ]
  },
  {
   "cell_type": "code",
   "execution_count": 10,
   "metadata": {},
   "outputs": [],
   "source": [
    "# wheeling motion\n",
    "speed = 0\n",
    "\n",
    "joint_state.velocity[0] = -speed\n",
    "joint_state.velocity[3] = speed\n",
    "joint_state.velocity[6] = -speed\n",
    "joint_state.velocity[9] = speed\n",
    "\n",
    "\n",
    "arcsnake_listener.joint_publisher.publish(joint_state)"
   ]
  },
  {
   "cell_type": "code",
   "execution_count": 14,
   "metadata": {},
   "outputs": [],
   "source": [
    "factor = 8\n",
    "number_of_steps = 200\n",
    "for i in range(number_of_steps):\n",
    "    joint_state.velocity[0] = (factor*5)*i/number_of_steps  + 2\n",
    "    joint_state.velocity[6] = -(factor*5)*i/number_of_steps  + 2\n",
    "    \n",
    "    arcsnake_listener.joint_publisher.publish(joint_state)\n",
    "    time.sleep(0.01)\n"
   ]
  },
  {
   "cell_type": "code",
   "execution_count": 11,
   "metadata": {},
   "outputs": [],
   "source": [
    "change_in_radians = 0.1\n",
    "number_of_steps = 200\n",
    "for i in range(number_of_steps):\n",
    "    joint_state.position[2] += change_in_radians/number_of_steps\n",
    "    joint_state.position[5] += -change_in_radians/number_of_steps\n",
    "    arcsnake_listener.joint_publisher.publish(joint_state)\n",
    "    time.sleep(0.01)"
   ]
  },
  {
   "cell_type": "code",
   "execution_count": 19,
   "metadata": {},
   "outputs": [],
   "source": [
    "change_in_radians = 0.1\n",
    "number_of_steps = 200\n",
    "for i in range(number_of_steps):\n",
    "    joint_state.position[2] += -change_in_radians/number_of_steps\n",
    "    arcsnake_listener.joint_publisher.publish(joint_state)\n",
    "    time.sleep(0.01)"
   ]
  },
  {
   "cell_type": "code",
   "execution_count": 20,
   "metadata": {},
   "outputs": [],
   "source": [
    "change_in_radians = 0.1\n",
    "number_of_steps = 200\n",
    "for i in range(number_of_steps):\n",
    "    joint_state.position[5] +=  change_in_radians/number_of_steps\n",
    "    arcsnake_listener.joint_publisher.publish(joint_state)\n",
    "    time.sleep(0.01)"
   ]
  },
  {
   "cell_type": "code",
   "execution_count": 8,
   "metadata": {},
   "outputs": [],
   "source": [
    "import math"
   ]
  },
  {
   "cell_type": "code",
   "execution_count": 9,
   "metadata": {},
   "outputs": [],
   "source": [
    "start_point_2 = joint_state.position[2]\n",
    "start_point_5 = joint_state.position[5]"
   ]
  },
  {
   "cell_type": "code",
   "execution_count": 15,
   "metadata": {},
   "outputs": [
    {
     "ename": "KeyboardInterrupt",
     "evalue": "",
     "output_type": "error",
     "traceback": [
      "\u001b[0;31m---------------------------------------------------------------------------\u001b[0m",
      "\u001b[0;31mKeyboardInterrupt\u001b[0m                         Traceback (most recent call last)",
      "Cell \u001b[0;32mIn[15], line 8\u001b[0m\n\u001b[1;32m      6\u001b[0m joint_state\u001b[39m.\u001b[39mposition[\u001b[39m5\u001b[39m] \u001b[39m=\u001b[39m start_point_5 \u001b[39m+\u001b[39m max_angle\u001b[39m*\u001b[39mmath\u001b[39m.\u001b[39msin(f\u001b[39m*\u001b[39mt)\n\u001b[1;32m      7\u001b[0m arcsnake_listener\u001b[39m.\u001b[39mjoint_publisher\u001b[39m.\u001b[39mpublish(joint_state)\n\u001b[0;32m----> 8\u001b[0m time\u001b[39m.\u001b[39;49msleep(\u001b[39m0.01\u001b[39;49m)\n",
      "\u001b[0;31mKeyboardInterrupt\u001b[0m: "
     ]
    }
   ],
   "source": [
    "max_angle = 0.5\n",
    "\n",
    "for t in range(10000):\n",
    "    f = 0.01\n",
    "    joint_state.position[2] = start_point_2 + max_angle*math.sin(f*t)\n",
    "    joint_state.position[5] = start_point_5 + max_angle*math.sin(f*t)\n",
    "    arcsnake_listener.joint_publisher.publish(joint_state)\n",
    "    time.sleep(0.01)"
   ]
  },
  {
   "cell_type": "code",
   "execution_count": 16,
   "metadata": {},
   "outputs": [],
   "source": [
    "arcsnake_listener.state_publisher.publish(String(data=\"off\"))"
   ]
  },
  {
   "cell_type": "code",
   "execution_count": 17,
   "metadata": {},
   "outputs": [],
   "source": [
    "# Destroy the node\n",
    "arcsnake_listener.destroy_node()\n",
    "rclpy.shutdown()"
   ]
  },
  {
   "cell_type": "code",
   "execution_count": null,
   "metadata": {},
   "outputs": [],
   "source": []
  }
 ],
 "metadata": {
  "kernelspec": {
   "display_name": "Python 3",
   "language": "python",
   "name": "python3"
  },
  "language_info": {
   "codemirror_mode": {
    "name": "ipython",
    "version": 3
   },
   "file_extension": ".py",
   "mimetype": "text/x-python",
   "name": "python",
   "nbconvert_exporter": "python",
   "pygments_lexer": "ipython3",
   "version": "3.8.10"
  },
  "orig_nbformat": 4,
  "vscode": {
   "interpreter": {
    "hash": "916dbcbb3f70747c44a77c7bcd40155683ae19c65e1c03b4aa3499c5328201f1"
   }
  }
 },
 "nbformat": 4,
 "nbformat_minor": 2
}
